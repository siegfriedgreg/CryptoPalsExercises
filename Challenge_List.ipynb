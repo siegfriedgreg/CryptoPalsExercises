{
 "cells": [
  {
   "cell_type": "code",
   "execution_count": 1,
   "id": "088aa3ed",
   "metadata": {},
   "outputs": [
    {
     "name": "stdout",
     "output_type": "stream",
     "text": [
      "Section 2 : Challenge 9 \n",
      "\n",
      "Expected: b'YELLOW SUBMARINE\\x04\\x04\\x04\\x04' \n",
      " \t  b'YELLOW SUBMARINE\\x00\\x01\\x02\\x03' is the result. \n",
      "\n"
     ]
    }
   ],
   "source": [
    "import Main_Functions as mainF\n",
    "\n",
    "#    SECTION ONE\n",
    "#mainF.Sec1_Ch1()\n",
    "#mainF.Sec1_Ch2()\n",
    "#mainF.Sec1_Ch3()\n",
    "#mainF.Sec1_Ch4()\n",
    "#mainF.Sec1_Ch5()\n",
    "#mainF.Sec1_Ch6()\n",
    "#mainF.Sec1_Ch7()\n",
    "#mainF.Sec1_Ch8()\n",
    "\n",
    "#    SECTION TWO\n",
    "#mainF.Sec2_Ch9()\n",
    "#mainF.Sec2_Ch10()\n",
    "\n",
    "\n",
    "\n"
   ]
  },
  {
   "cell_type": "code",
   "execution_count": null,
   "metadata": {},
   "outputs": [],
   "source": []
  }
 ],
 "metadata": {
  "interpreter": {
   "hash": "bc4cdd2855122166f1db9de7e3b29a0b9c3460cea3f2d075d4a97313d8d9a37a"
  },
  "kernelspec": {
   "display_name": "Python 3.8.8 64-bit ('base': conda)",
   "name": "python3"
  },
  "language_info": {
   "codemirror_mode": {
    "name": "ipython",
    "version": 3
   },
   "file_extension": ".py",
   "mimetype": "text/x-python",
   "name": "python",
   "nbconvert_exporter": "python",
   "pygments_lexer": "ipython3",
   "version": "3.8.8"
  }
 },
 "nbformat": 4,
 "nbformat_minor": 5
}
