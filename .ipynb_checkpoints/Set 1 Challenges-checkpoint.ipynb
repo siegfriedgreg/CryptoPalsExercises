{
 "cells": [
  {
   "cell_type": "code",
   "execution_count": 14,
   "id": "088aa3ed",
   "metadata": {},
   "outputs": [],
   "source": [
    "import binascii as bicii\n",
    "import Crypto.Util as cry\n",
    "\n",
    "# Challenge and result inputs to test against\n",
    "Ch1 = \"49276d206b696c6c696e6720796f757220627261696e206c696b65206120706f69736f6e6f7573206d757368726f6f6d\"\n",
    "Ch1Res = \"SSdtIGtpbGxpbmcgeW91ciBicmFpbiBsaWtlIGEgcG9pc29ub3VzIG11c2hyb29t\"\n",
    "Ch2a = \"1c0111001f010100061a024b53535009181c\"\n",
    "Ch2b = \"686974207468652062756c6c277320657965\"\n",
    "Ch2Res = \"746865206b696420646f6e277420706c6179\"\n",
    "Ch3 = \"1b37373331363f78151b7f2b783431333d78397828372d363c78373e783a393b3736\"\n",
    "Ch4 = \"https://cryptopals.com/static/challenge-data/4.txt\"\n",
    "\n",
    "# Weighed variables for Character Frequency tuning and selection\n",
    "# BETA adjusts the percentage of the Character Frequency used in the resulting summation\n",
    "BETA = 0.50\n",
    "# PHI is the minimum summation to consider for each line of text analyized\n",
    "PHI = 1.0\n",
    "# MU is the minimum number of spaces allowed in a string to consider for analysis\n",
    "MU = 1\n",
    "\n",
    "\n",
    "\n",
    "# Table based on 2.1 million characters and 380,703 words.\n",
    "# Space character simulated with average of 'ETA'\n",
    "CharFreqTable = {'A':0.0834, 'B':0.0154, 'C':0.0273,\n",
    "                 'D':0.0414, 'E':0.1260, 'F':0.0203,\n",
    "                 'G':0.0192, 'H':0.0611, 'I':0.0671,\n",
    "                 'J':0.0023, 'K':0.0087, 'L':0.0424,\n",
    "                 'M':0.0253, 'N':0.0680, 'O':0.0770,\n",
    "                 'P':0.0166, 'Q':0.0009, 'R':0.0568,\n",
    "                 'S':0.0611, 'T':0.0937, 'U':0.0234,\n",
    "                 'V':0.0106, 'W':0.0234, 'X':0.0020,\n",
    "                 'Y':0.0204, 'Z':0.0006, ' ':0.1009 }\n",
    "\n",
    "Alphabet = {'A':0.0, 'B':0.0, 'C':0.0,\n",
    "            'D':0.0, 'E':0.0, 'F':0.0,\n",
    "            'G':0.0, 'H':0.0, 'I':0.0,\n",
    "            'J':0.0, 'K':0.0, 'L':0.0,\n",
    "            'M':0.0, 'N':0.0, 'O':0.0,\n",
    "            'P':0.0, 'Q':0.0, 'R':0.0,\n",
    "            'S':0.0, 'T':0.0, 'U':0.0,\n",
    "            'V':0.0, 'W':0.0, 'X':0.0,\n",
    "            'Y':0.0, 'Z':0.0, ' ':0.0 }\n",
    "\n",
    "# Takes Hex string and returns binary version\n",
    "def Hex2Bin(temp):\n",
    "    return bicii.unhexlify(temp)\n",
    "\n",
    "# Takes Binary string and returns Base64 version\n",
    "def Bin2Base64(temp):\n",
    "    return bicii.b2a_base64(temp)\n",
    "\n",
    "# Uses Hex2Bin to convert a string to binary for XOR'ing\n",
    "def DualBufferXOR(tmp1,tmp2):\n",
    "    x = Hex2Bin(tmp1)\n",
    "    y = Hex2Bin(tmp2)\n",
    "    return cry.strxor(x,y)\n"
   ]
  },
  {
   "cell_type": "code",
   "execution_count": 15,
   "id": "48c2e118",
   "metadata": {},
   "outputs": [
    {
     "ename": "AttributeError",
     "evalue": "module 'Crypto.Util' has no attribute 'strxor'",
     "output_type": "error",
     "traceback": [
      "\u001b[0;31m---------------------------------------------------------------------------\u001b[0m",
      "\u001b[0;31mAttributeError\u001b[0m                            Traceback (most recent call last)",
      "\u001b[0;32m/tmp/ipykernel_22558/1672364900.py\u001b[0m in \u001b[0;36m<module>\u001b[0;34m\u001b[0m\n\u001b[0;32m----> 1\u001b[0;31m \u001b[0mDualBufferXOR\u001b[0m\u001b[0;34m(\u001b[0m\u001b[0mCh2a\u001b[0m\u001b[0;34m,\u001b[0m\u001b[0mCh2b\u001b[0m\u001b[0;34m)\u001b[0m\u001b[0;34m\u001b[0m\u001b[0;34m\u001b[0m\u001b[0m\n\u001b[0m",
      "\u001b[0;32m/tmp/ipykernel_22558/1865189674.py\u001b[0m in \u001b[0;36mDualBufferXOR\u001b[0;34m(tmp1, tmp2)\u001b[0m\n\u001b[1;32m     55\u001b[0m     \u001b[0mx\u001b[0m \u001b[0;34m=\u001b[0m \u001b[0mHex2Bin\u001b[0m\u001b[0;34m(\u001b[0m\u001b[0mtmp1\u001b[0m\u001b[0;34m)\u001b[0m\u001b[0;34m\u001b[0m\u001b[0;34m\u001b[0m\u001b[0m\n\u001b[1;32m     56\u001b[0m     \u001b[0my\u001b[0m \u001b[0;34m=\u001b[0m \u001b[0mHex2Bin\u001b[0m\u001b[0;34m(\u001b[0m\u001b[0mtmp2\u001b[0m\u001b[0;34m)\u001b[0m\u001b[0;34m\u001b[0m\u001b[0;34m\u001b[0m\u001b[0m\n\u001b[0;32m---> 57\u001b[0;31m     \u001b[0;32mreturn\u001b[0m \u001b[0mcry\u001b[0m\u001b[0;34m.\u001b[0m\u001b[0mstrxor\u001b[0m\u001b[0;34m(\u001b[0m\u001b[0mx\u001b[0m\u001b[0;34m,\u001b[0m\u001b[0my\u001b[0m\u001b[0;34m)\u001b[0m\u001b[0;34m\u001b[0m\u001b[0;34m\u001b[0m\u001b[0m\n\u001b[0m",
      "\u001b[0;31mAttributeError\u001b[0m: module 'Crypto.Util' has no attribute 'strxor'"
     ]
    }
   ],
   "source": [
    "DualBufferXOR(Ch2a,Ch2b)"
   ]
  },
  {
   "cell_type": "code",
   "execution_count": null,
   "id": "f196fdfa",
   "metadata": {},
   "outputs": [],
   "source": []
  },
  {
   "cell_type": "code",
   "execution_count": null,
   "id": "4000abb8",
   "metadata": {},
   "outputs": [],
   "source": []
  },
  {
   "cell_type": "code",
   "execution_count": null,
   "id": "a7ebf169",
   "metadata": {},
   "outputs": [],
   "source": []
  },
  {
   "cell_type": "code",
   "execution_count": null,
   "id": "9febb8fb",
   "metadata": {},
   "outputs": [],
   "source": []
  }
 ],
 "metadata": {
  "kernelspec": {
   "display_name": "Python 3 (ipykernel)",
   "language": "python",
   "name": "python3"
  },
  "language_info": {
   "codemirror_mode": {
    "name": "ipython",
    "version": 3
   },
   "file_extension": ".py",
   "mimetype": "text/x-python",
   "name": "python",
   "nbconvert_exporter": "python",
   "pygments_lexer": "ipython3",
   "version": "3.8.8"
  }
 },
 "nbformat": 4,
 "nbformat_minor": 5
}
